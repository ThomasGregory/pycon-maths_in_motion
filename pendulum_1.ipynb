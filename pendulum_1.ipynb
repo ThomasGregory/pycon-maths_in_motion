{
 "cells": [
  {
   "cell_type": "markdown",
   "id": "aef0f7b6",
   "metadata": {},
   "source": [
    "### Modeling a Pendulum"
   ]
  },
  {
   "cell_type": "markdown",
   "id": "447db700",
   "metadata": {},
   "source": [
    "Background: describe class of physics/'classical mechanics' -type problems, and emphasise the role of mathematical modeling within this space"
   ]
  },
  {
   "cell_type": "markdown",
   "id": "50dd74a6",
   "metadata": {},
   "source": [
    "Description: talk about the pendulum in particular. Maybe a diagram and discussion of the key forces acting on the 'bob'. Probably don't want a full derivation of the ODE, but maybe enough info that it can be sketched out loud, and filled in by the participants most engaged with that end of things. "
   ]
  },
  {
   "cell_type": "markdown",
   "id": "ee980b6e",
   "metadata": {},
   "source": [
    "Model: Statement of the ODE, with terms defined. "
   ]
  },
  {
   "cell_type": "markdown",
   "id": "1d731f42",
   "metadata": {},
   "source": [
    "$$ a \\frac{d^2x}{dt^2} + b \\frac{dx}{dt} + c x = f(t) $$"
   ]
  },
  {
   "cell_type": "markdown",
   "id": "bc057083",
   "metadata": {},
   "source": [
    "Context: Discuss background of (simple) harmonic motion, give other examples e.g. spring-mass"
   ]
  },
  {
   "cell_type": "markdown",
   "id": "f47ec945",
   "metadata": {},
   "source": [
    "Numerics: discuss how we turn this into code"
   ]
  },
  {
   "cell_type": "code",
   "execution_count": 3,
   "id": "000797a0",
   "metadata": {},
   "outputs": [],
   "source": [
    "#Setting up parameters\n",
    "\n",
    "def constant_forcing(duration, timestep, k=0):\n",
    "    '''defines a mathematical function describing the forcing on a pendulum'''\n",
    "    constlist = [k for t in range(0, int(duration/timestep) + 1)]\n",
    "    return constlist\n",
    "\n",
    "cs = [1, 0, -1]\n",
    "dt = 0.5\n",
    "T = 10\n",
    "f = constant_forcing(T, dt)\n",
    "ic = [0, 1]"
   ]
  },
  {
   "cell_type": "markdown",
   "id": "4bdbbdac",
   "metadata": {},
   "source": [
    "COMMENT: Maybe exile the functions below to a utility file; people are welcome to look into the guts of this if they want, but it seems like a lot of clutter in the workbook"
   ]
  },
  {
   "cell_type": "code",
   "execution_count": 2,
   "id": "7054d665",
   "metadata": {},
   "outputs": [
    {
     "ename": "SyntaxError",
     "evalue": "non-default argument follows default argument (1388205767.py, line 1)",
     "output_type": "error",
     "traceback": [
      "\u001b[0;36m  File \u001b[0;32m\"/tmp/ipykernel_4355/1388205767.py\"\u001b[0;36m, line \u001b[0;32m1\u001b[0m\n\u001b[0;31m    def pendulum_height(coeffs, forcing = zero_forcing, timestep, duration):\u001b[0m\n\u001b[0m                        ^\u001b[0m\n\u001b[0;31mSyntaxError\u001b[0m\u001b[0;31m:\u001b[0m non-default argument follows default argument\n"
     ]
    }
   ],
   "source": [
    "def pendulum_height(initial_conditions, coeffs, timestep, duration, forcing=constant_forcing):\n",
    "    '''returns solutions of a(d^2y/dx^2)+b(dy/dx)+cy = f(x) for given coefficients [a, b, c], a \n",
    "    given forcing function, a given initial condition and a given timestep for a given duration\n",
    "    This will probably use forward Euler'''\n",
    "    \n",
    "    raise NotImplementedError"
   ]
  },
  {
   "cell_type": "code",
   "execution_count": null,
   "id": "b500edae",
   "metadata": {},
   "outputs": [],
   "source": [
    "def exact_solve_pendulum(coeffs, forcing=constant_forcing, timestep, duration):\n",
    "    '''returns the list of solutions at all timesteps according to the analytic solution'''\n",
    "    timelist = [i*timestep for i in range(0, int(duration/timestep) + 1)]\n",
    "    a = coeffs[0]\n",
    "    b = coeffs[1]\n",
    "    c = coeffs[2]\n",
    "    disc = b**2 - 4*a*c\n",
    "    if forcing == constant_forcing:\n",
    "        if disc > 0:\n",
    "            raise NotImplementedError\n",
    "        elif disc < 0: \n",
    "            raise NotImplementedError\n",
    "        elif disc == 0:\n",
    "            raise NotImplementedError\n",
    "    \n",
    "    \n",
    "    raise NotImplementedError"
   ]
  },
  {
   "cell_type": "code",
   "execution_count": null,
   "id": "b3c6d132",
   "metadata": {},
   "outputs": [],
   "source": [
    "def plot_pendulum():\n",
    "    '''plots the height of the pendulum at time t. if I feel fancy, I'll link this to a plot that\n",
    "    looks more like a pendulum side-by-side, and plot in real time. That feels like a lot of work\n",
    "    and isn't exactly the emphasis here, but it would help intuition'''\n",
    "    raise NotImplementedError"
   ]
  },
  {
   "cell_type": "code",
   "execution_count": 4,
   "id": "4c159f92",
   "metadata": {},
   "outputs": [],
   "source": [
    "def error_analysis(solve_num, solve_an, plot_mode=False):\n",
    "    '''outputs the error against the exact solve for cases where an analytic solution is available. \n",
    "    plots an error function if plot_mode is true'''\n",
    "    raise NotImplementedError"
   ]
  },
  {
   "cell_type": "markdown",
   "id": "cbb251cf",
   "metadata": {},
   "source": [
    "Demonstration: generate a plot for the default conditions, and show what happens if they change. This might require creating a top-level function to combine everything here."
   ]
  },
  {
   "cell_type": "markdown",
   "id": "c05e990a",
   "metadata": {},
   "source": [
    "Questions to explore:"
   ]
  },
  {
   "cell_type": "markdown",
   "id": "f0c2ce6b",
   "metadata": {},
   "source": [
    "1) Why do we get the shape of output that we do?\n",
    "\n",
    "2) When there's no forcing, what's the difference in the real-world between b = 0 and $b \\neq 0$?\n",
    "\n",
    "3) Why is it important to compare our computed solution against an analytical solution?\n",
    "\n",
    "4) Why do we get some error between the computed solution and the true (analytical) solution? How can we decrease the error? \n",
    "\n",
    "5) Experiment with some different values of the coefficients. How does each coefficient affect the shape of the solution? Does every possible combination of coefficients correspond to a real-world pendulum? \n",
    "\n",
    "6) What are the importance of the initial conditions?\n",
    "\n",
    "7) Try a non-zero value for the forcing. What happens?\n",
    "\n",
    "8) What assumptions did we make to design this model? What are some limitations of our model?\n",
    "\n",
    "9) Implement your own forcing, or use one from the file of suggestions. How does the shape of the curve respond? (NB: You'll need to use a forcing from the file if you want to do an error analysis!) \n",
    "\n",
    "10) Take a look at the solver file. How does the computational model work? Can you improve it, or adapt it for another physical phenomenon (one example: somebody diving out of a plane, before opening their parachute). \n"
   ]
  },
  {
   "cell_type": "markdown",
   "id": "513f3315",
   "metadata": {},
   "source": [
    "Going Deeper..."
   ]
  },
  {
   "cell_type": "markdown",
   "id": "e4bbcd5c",
   "metadata": {},
   "source": [
    "Discussion: What happens if we add complexity to the scenario? If we attach another pendulum to the end of this pendulum? Embed video of double pendulum, segue into chaos."
   ]
  }
 ],
 "metadata": {
  "kernelspec": {
   "display_name": "Python 3 (ipykernel)",
   "language": "python",
   "name": "python3"
  },
  "language_info": {
   "codemirror_mode": {
    "name": "ipython",
    "version": 3
   },
   "file_extension": ".py",
   "mimetype": "text/x-python",
   "name": "python",
   "nbconvert_exporter": "python",
   "pygments_lexer": "ipython3",
   "version": "3.8.10"
  }
 },
 "nbformat": 4,
 "nbformat_minor": 5
}
