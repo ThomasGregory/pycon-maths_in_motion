{
 "cells": [
  {
   "attachments": {
    "image.png": {
     "image/png": "[encoded data removed]"
    }
   },
   "cell_type": "markdown",
   "id": "2be14530",
   "metadata": {},
   "source": [
    "# Mathematical Finance\n",
    "In this section, we will go through some of the aspects of mathematical modeling in the field of finance\n",
    "\n",
    "## Time value of money\n",
    "### How much should you me pay now if give you £100 in 1 year's time? \n",
    "Said other way, what is £100 in one year's time worth today?\n",
    "\n",
    "This is called Present Value. In order to answer, this question, we need to know the running interest rate. For now, we can use a constant 5.25% interest rate. Which means, if you invest £100 today, you'll get $(1+0.0525)*£ 100 = £105.25$in 1 years time. Thus, £105.25 in 1 years time are worth £100 today. Using this, can we find the worth of £100 in 1 year time today? \n",
    "\n",
    "![image.png](attachment:image.png)"
   ]
  },
  {
   "cell_type": "code",
   "execution_count": 8,
   "id": "6757b071",
   "metadata": {},
   "outputs": [
    {
     "name": "stdout",
     "output_type": "stream",
     "text": [
      "Present value of 100 at 0.0525 rate of interest in 1 years time is 95.0119\n"
     ]
    }
   ],
   "source": [
    "def find_pv( future_value, rate_of_interest, time_in_years ):\n",
    "    return future_value/(1+rate_of_interest)**time_in_years\n",
    "\n",
    "assert(find_pv( 105, 0.05, 1 ) == 100) # 1 year bond paying 105 at 5% interest rate should be worth 100\n",
    "assert(find_pv( 100, 0.0, 1 ) == 100)\n",
    "\n",
    "# Answering our original question\n",
    "future_value, rate_of_interest, time_in_years = 100, 0.0525, 1\n",
    "present_value = find_pv( future_value, rate_of_interest, time_in_years )\n",
    "print( \"Present value of {} at {} rate of interest in {} years time is {}\".format( \n",
    "    future_value, rate_of_interest, time_in_years, round( present_value, 4 ) ) )"
   ]
  },
  {
   "attachments": {
    "image.png": {
     "image/png": "[encoded data removed]"
    }
   },
   "cell_type": "markdown",
   "id": "5c0d4a62",
   "metadata": {},
   "source": [
    "## Bond pricing\n",
    "### What is a bond?\n",
    "According to [Wikipedia](https://en.wikipedia.org/wiki/Bond_(finance)), a bond is a type of security under which the issuer (debtor) owes the holder (creditor) a debt, and is obliged – depending on the terms – to provide cash flow to the creditor (e.g. repay the principal (i.e. amount borrowed) of the bond at the maturity date as well as interest (called the coupon) over a specified amount of time)\n",
    "\n",
    "### What do we need to price a risk-free bond?\n",
    "Rate of interest ($r$), time to maturity/expiry ($t$), Principal/Notional ($N$), coupon rate ($c$)\n",
    "\n",
    "![image.png](attachment:image.png)"
   ]
  },
  {
   "cell_type": "markdown",
   "id": "8a8ed057",
   "metadata": {},
   "source": [
    "### Given this infoirmation, what is the fair price one should pay for this bond?\n",
    "\n",
    "\n",
    "The value of the future cashflows as of today i.e. Time value of Money\n",
    "\n",
    "$$P = \\frac{c_1}{1+r_1} + \\frac{c_2}{(1+r_2)^2} + \\frac{c_3}{(1+r_3)^3} + ... + \\frac{N+c_t}{(1+r_t)^t}$$\n",
    "\n",
    "For simplicity, let's assume constant coupon rate ($c$) and rate of interest ($r$)\n",
    "\n",
    "$$P = \\frac{c}{1+r} + \\frac{c}{(1+r)^2} + \\frac{c}{(1+r)^3} + ... + \\frac{N+c}{(1+r)^t}$$"
   ]
  },
  {
   "cell_type": "code",
   "execution_count": 16,
   "id": "7480ab18",
   "metadata": {},
   "outputs": [],
   "source": [
    "import numpy as np\n",
    "import matplotlib.pyplot as plt"
   ]
  },
  {
   "cell_type": "code",
   "execution_count": 10,
   "id": "44f1f7e0",
   "metadata": {},
   "outputs": [],
   "source": [
    "def create_cashflows(coupon, notional, time):\n",
    "    cashflows      = [coupon]*time\n",
    "    cashflows[-1] += notional\n",
    "    return cashflows\n",
    "\n",
    "def bond_pricer(coupon, notional, time, riskfree_rate):\n",
    "    future_cashflows = create_cashflows(coupon, notional, time)\n",
    "    bond_price       = 0.0\n",
    "    for cashflow, tp in zip(future_cashflows, range(time)):\n",
    "        bond_price += cashflow/(np.power((1 + riskfree_rate),tp + 1))\n",
    "    return round(bond_price, 4)"
   ]
  },
  {
   "cell_type": "code",
   "execution_count": 11,
   "id": "bb48562c",
   "metadata": {},
   "outputs": [
    {
     "name": "stdout",
     "output_type": "stream",
     "text": [
      "Price of the bond is £ 82.6821\n"
     ]
    }
   ],
   "source": [
    "c = 1    # coupon rate, absolute £ value\n",
    "N = 100  # notional of the bond, £ value\n",
    "t = 5    # time to maturity (in years)\n",
    "r = 0.05 # risk-free rate of return (absolute), equivalent of 10%\n",
    "print(\"Price of the bond is £\", bond_pricer(c, N, t, r))\n",
    "\n",
    "## sanity check\n",
    "assert(bond_pricer(0, N, t, 0) == 100.0) # zero coupon- zero rate of interest\n",
    "assert(bond_pricer(10, N, t, 0.1) == 100.0) # coupon rate == rate of interest"
   ]
  },
  {
   "cell_type": "markdown",
   "id": "18123b05",
   "metadata": {},
   "source": [
    "### Challenge #1 (Trick question): Changing rate of interests\n",
    "What if we have different rate of interests for different periods? Say $r_1, r_2, r_3, r_4, r_5$ for each of the time periods? Catch, think what these rates represent? What exactly is $r_2$ and $r_5$?\n",
    "\n",
    "Can you write a function for it?\n",
    "Check your solution with these conditions:\n",
    "\n",
    "```\n",
    "assert(abs(find_pv_for_varying_ir_spot(0, 100, 5, [0.01, 0.02, 0.03, 0.04, 0.05]) - 78.3526 ) < 1e-4)\n",
    "assert(abs(find_pv_for_varying_ir_spot(5, 100, 5, [0.01, 0.02, 0.03, 0.04, 0.05]) - 100.8763) < 1e-4)\n",
    "```"
   ]
  },
  {
   "cell_type": "markdown",
   "id": "863c5fb5",
   "metadata": {},
   "source": [
    "### Pricing a risk bond\n",
    "Now, most of bonds in the market are so-called risky or corporate bonds. There is a default risk associated with these bonds.\n",
    "Let's assume at every discrete time interval, bonds can default with probability $d$. Incorporating this risk in the pricing, we have:\n",
    "$$P = \\Biggl( \\frac{1-d}{1+r} \\Biggr)c + \\Biggl( \\frac{1-d}{1+r} \\Biggr)^2 c + \\Biggl( \\frac{1-d}{1+r} \\Biggr)^3c + ... +  \\Biggl( \\frac{1-d}{1+r} \\Biggr)^t(N+c)$$"
   ]
  },
  {
   "cell_type": "code",
   "execution_count": 12,
   "id": "aa188471",
   "metadata": {},
   "outputs": [],
   "source": [
    "def risky_bond_pricer(coupon, notional, time, riskfree_rate, default_probability = 0.0):\n",
    "    future_cashflows = create_cashflows(coupon, notional, time)\n",
    "    bond_price       = 0.0\n",
    "    for cashflow, tp in zip(future_cashflows, range(time)):\n",
    "        bond_price += cashflow*(np.power((1-default_probability), tp+1 ))/(np.power((1+riskfree_rate), tp+1 ))\n",
    "    return round(bond_price, 4)"
   ]
  },
  {
   "cell_type": "code",
   "execution_count": 15,
   "id": "bf1024d2",
   "metadata": {},
   "outputs": [
    {
     "name": "stdout",
     "output_type": "stream",
     "text": [
      "Price of the risk-free bond is £ 100.0\n",
      "Price of the risky bond is £ 62.3865\n"
     ]
    }
   ],
   "source": [
    "c = 5    # coupon rate, absolute £ value\n",
    "N = 100  # notional of the bond, £ value\n",
    "t = 5    # time to maturity (in years)\n",
    "r = 0.05 # risk-free rate of return (absolute), equivalent of 10%\n",
    "d = 0.1  # 10% default probability\n",
    "print(\"Price of the risk-free bond is £\", bond_pricer(c, N, t, r))\n",
    "print(\"Price of the risky bond is £\", risky_bond_pricer(c, N, t, r, d))\n",
    "\n",
    "## sanity check\n",
    "assert(risky_bond_pricer(0, N, t, 0) == 100.0) # zero coupon- zero rate of interest\n",
    "assert(risky_bond_pricer(10, N, t, 0.1) == 100.0) # coupon rate == rate of interest"
   ]
  },
  {
   "cell_type": "code",
   "execution_count": 18,
   "id": "b0edb160",
   "metadata": {},
   "outputs": [
    {
     "data": {
      "text/plain": [
       "<matplotlib.legend.Legend at 0x2a59eedcd90>"
      ]
     },
     "execution_count": 18,
     "metadata": {},
     "output_type": "execute_result"
    },
    {
     "data": {
      "image/png": "[encoded data removed]",
      "text/plain": [
       "<Figure size 640x480 with 1 Axes>"
      ]
     },
     "metadata": {},
     "output_type": "display_data"
    }
   ],
   "source": [
    "default_probs     = np.linspace(0, 0.95, 20)\n",
    "risky_bond_prices = []\n",
    "for def_prob in default_probs:\n",
    "    risky_bond_prices.append(risky_bond_pricer(c, N, t, r, def_prob))\n",
    "\n",
    "plt.figure()\n",
    "plt.subplot(2, 1, 1)\n",
    "plt.plot(default_probs, risky_bond_prices, label='Risky bond prices for varying default probabilities')\n",
    "plt.xlabel('Default probability')\n",
    "plt.ylabel('Price of the risky bond')\n",
    "plt.legend()"
   ]
  },
  {
   "cell_type": "markdown",
   "id": "0141abb1",
   "metadata": {},
   "source": [
    "#### What if we allow the default probabilities to vary?\n",
    "\n",
    "Instead of constant default probabilities, we can have time-varying default probabilities. Mathematically, this reduces to\n",
    "$$P = \\Biggl( \\frac{1-d_1}{1+r} \\Biggr)c + \\Biggl( \\frac{1-d_1}{1+r} \\Biggr) \\Biggl( \\frac{1-d_2}{1+r} \\Biggr)c + ... +  \\Biggl[\\Biggl( \\frac{1-d_1}{1+r} \\Biggr).... \\Biggl( \\frac{1-d_{t}}{1+r} \\Biggr)\\Biggr](N+c)$$\n",
    "\n",
    "So, if we have default probabilities, easy to work out risky bond price."
   ]
  },
  {
   "cell_type": "code",
   "execution_count": 19,
   "id": "7803fdda",
   "metadata": {},
   "outputs": [],
   "source": [
    "def risky_bond_pricer_time_varying_default_probs( coupon, notional, time, riskfree_rate, default_probabilities ):\n",
    "    default_probabilities    = default_probabilities or [0.0]*time\n",
    "    future_cashflows         = create_cashflows( coupon, notional, time )\n",
    "    bond_price               = 0.0\n",
    "    conditional_default_prob = 1\n",
    "    for cashflow, tp in zip( future_cashflows, range( time ) ):\n",
    "        conditional_default_prob = conditional_default_prob * ( 1 - default_probabilities[ tp ] )\n",
    "        bond_price              += ( cashflow * conditional_default_prob / ( np.power( ( 1 + riskfree_rate ), tp + 1 ) ) )\n",
    "    return round( bond_price, 4 )"
   ]
  },
  {
   "cell_type": "code",
   "execution_count": 20,
   "id": "6307f540",
   "metadata": {},
   "outputs": [
    {
     "name": "stdout",
     "output_type": "stream",
     "text": [
      "Price of the risky bond is £ 59.6279\n"
     ]
    }
   ],
   "source": [
    "c = 10                          # coupon rate, absolute £ value\n",
    "N = 100                         # notional of the bond, £ value\n",
    "t = 5                           # time to maturity (in years)\n",
    "r = 0.05                        # risk-free rate of return (absolute), equivalent of 10%\n",
    "d = [0.1, 0.1, 0.15, 0.2, 0.3]  # default probabilities\n",
    "print(\"Price of the risky bond is £\", risky_bond_pricer_time_varying_default_probs(c, N, t, r, d))\n",
    "\n",
    "## sanity check\n",
    "# Case-1 zero coupon- zero rate of interest- no default probability\n",
    "assert(risky_bond_pricer_time_varying_default_probs(0, N, t, 0, None) == 100.0) \n",
    "# Case-2 coupon rate == rate of interest - no default probability\n",
    "assert(risky_bond_pricer_time_varying_default_probs(10, N, t, 0.1, None) == 100.0) \n",
    "# Case-3 coupon rate == rate of interest - no default probability - both pricers should match\n",
    "assert(risky_bond_pricer_time_varying_default_probs(10, N, t, 0.1, None) == risky_bond_pricer(10, N, t, 0.1))"
   ]
  },
  {
   "cell_type": "markdown",
   "id": "6daab3dd",
   "metadata": {},
   "source": [
    "### default curve modeling\n",
    "Usually, the problem we have at hand is we observe the bond prices in the market and we workout the (market expectation) of default probabilities.\n",
    "Given the prices of bond written by the same entity but maturiting in 1 year, 2 year, ... t years could give us the picture what is the market expectation of entity's default.\n",
    "\n",
    "In mathematical terms, we are given $P_1, P_2, ... , P_t $ and we are trying to work-out the dynamics of the default probabilities $d_1, d_2, ... , d_t$\n",
    "\n",
    "$$\n",
    "\\begin{align*}\n",
    "P_1 &= \\Biggl( \\frac{1-d_1}{1+r} \\Biggr)(c + N) \\\\\n",
    "\\\\\n",
    "P_2 &= \\Biggl( \\frac{1-d_1}{1+r} \\Biggr)c + \\Biggl( \\frac{1-d_1}{1+r} \\Biggr) \\Biggl( \\frac{1-d_2}{1+r} \\Biggr)(c + N) \\\\\n",
    "\\\\\n",
    "...\\\\\n",
    "\\\\\n",
    "P_t &= \\Biggl( \\frac{1-d_1}{1+r} \\Biggr)c + \\Biggl( \\frac{1-d_1}{1+r} \\Biggr) \\Biggl( \\frac{1-d_2}{1+r} \\Biggr)c + ... +  \\Biggl( \\frac{1-d_1}{1+r} \\Biggr)....\\Biggl( \\frac{1-d_{t}}{1+r} \\Biggr)(c + N) \\\\\n",
    "\\end{align*}\n",
    "$$\n",
    "\n",
    "For the sake of simplicity, we can assume zero-coupon bonds:\n",
    "$$\n",
    "\\begin{align*}\n",
    "P_1 &= \\Biggl( \\frac{1-d_1}{1+r} \\Biggr)N \\\\\n",
    "\\\\\n",
    "P_2 &= \\Biggl( \\frac{1-d_1}{1+r} \\Biggr) \\Biggl( \\frac{1-d_2}{1+r} \\Biggr)N \\\\\n",
    "\\\\\n",
    "...\\\\\n",
    "\\\\\n",
    "P_t &= \\Biggl( \\frac{1-d_1}{1+r} \\Biggr)....\\Biggl( \\frac{1-d_{t}}{1+r} \\Biggr)N \\\\\n",
    "\\end{align*}\n",
    "$$\n",
    "\n",
    "Working backwards, we can solve for $d_i$\n"
   ]
  },
  {
   "cell_type": "code",
   "execution_count": 27,
   "id": "fb9b92b4",
   "metadata": {},
   "outputs": [],
   "source": [
    "def default_probabilities(coupon, notional, time, riskfree_rate, bond_prices):\n",
    "    default_probabilities = []\n",
    "    for tp in range(1, time + 1):\n",
    "        if tp == 1:\n",
    "            survival_probability = bond_prices[tp - 1] / (notional * (1 + riskfree_rate)**tp)\n",
    "        else:\n",
    "            survival_probability = bond_prices[tp - 1] / (bond_prices[tp - 2] * (1 + riskfree_rate))\n",
    "        default_probability = 1 - survival_probability\n",
    "        default_probabilities.append(default_probability)\n",
    "    return default_probabilities"
   ]
  },
  {
   "cell_type": "code",
   "execution_count": 28,
   "id": "f47fc8be",
   "metadata": {},
   "outputs": [
    {
     "name": "stdout",
     "output_type": "stream",
     "text": [
      "Conditional default probabilities are [0.21904761904761905, 0.09407665505226492, 0.10866910866910873, 0.11285061969993482, 0.11764705882352944]\n"
     ]
    }
   ],
   "source": [
    "c             = 10                     # coupon rate, absolute £ value\n",
    "N             = 100                    # notional of the bond, £ value\n",
    "t             = 5                      # time to maturity (in years)\n",
    "r             = 0.05                   # risk-free rate of return (absolute), equivalent of 10%\n",
    "bond_prices   = [ 82, 78, 73, 68, 63 ] # bond prices of different tenors\n",
    "default_probs = default_probabilities(c, N, t, r, bond_prices)\n",
    "print( \"Conditional default probabilities are\", default_probs )\n",
    "\n",
    "## sanity check\n",
    "# Case-1 zero coupon- zero rate of interest- bondtrading on face Value should have 0 default probabilities\n",
    "assert(default_probabilities(0, N, t, 0, [100, 100, 100, 100, 100]) == [0.0, 0.0, 0.0, 0.0, 0.0]) \n",
    "# Case-2 t=2 case\n",
    "assert(default_probabilities(0, N, 2, 0.0, [100, 100]) == [0.0, 0.0]) "
   ]
  },
  {
   "cell_type": "markdown",
   "id": "6cf6d6db",
   "metadata": {},
   "source": [
    "### Challenge #2: Changing rate of interests\n",
    "What if we again have different rate of interests for different periods? Say $r_1, r_2, r_3, r_4, r_5$ for each of the time periods?\n",
    "\n",
    "Can you write a function for it?\n",
    "Check your solution with these conditions:\n",
    "\n",
    "```\n",
    "assert(abs(sum(default_probabilities_varying_rates(0, 100, 5, [0.0, 0.0, 0.0, 0.0, 0.0], [100, 100, 100, 100, 100])) - 0) < 1e-4)\n",
    "assert(abs(sum(default_probabilities_varying_rates(0, 100, 5, [0.01, 0.02, 0.03, 0.04, 0.05], [100, 100, 100, 100, 100])) - 0.1447) < 1e-4)\n",
    "```"
   ]
  },
  {
   "cell_type": "code",
   "execution_count": null,
   "id": "6f774285",
   "metadata": {},
   "outputs": [],
   "source": []
  }
 ],
 "metadata": {
  "kernelspec": {
   "display_name": "Python 3 (ipykernel)",
   "language": "python",
   "name": "python3"
  },
  "language_info": {
   "codemirror_mode": {
    "name": "ipython",
    "version": 3
   },
   "file_extension": ".py",
   "mimetype": "text/x-python",
   "name": "python",
   "nbconvert_exporter": "python",
   "pygments_lexer": "ipython3",
   "version": "3.9.13"
  }
 },
 "nbformat": 4,
 "nbformat_minor": 5
}
