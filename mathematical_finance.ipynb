{
 "cells": [
  {
   "attachments": {},
   "cell_type": "markdown",
   "id": "58b77906",
   "metadata": {},
   "source": [
    "# Mathematical Finance\n",
    "In this section, we will go through some of the aspects of mathematical modeling in the field of finance\n",
    "## 1. Bond pricing\n",
    "### What is a bond?\n",
    "\n",
    "### What do we need to price a risk-free bond?\n",
    "Rate of interest ($r$), time to maturity/expiry ($t$), Principal/Notional ($N$), coupon rate ($c$)"
   ]
  },
  {
   "attachments": {
    "BondPricing.jpg": {
     "image/jpeg": "[encoded data removed]"
    }
   },
   "cell_type": "markdown",
   "id": "fd5c419a",
   "metadata": {},
   "source": [
    "\n",
    "![BondPricing.jpg](attachment:BondPricing.jpg)"
   ]
  },
  {
   "cell_type": "markdown",
   "id": "2eb81fa8",
   "metadata": {},
   "source": [
    "### Given this infoirmation, what is the fair price one should pay for this bond?\n",
    "\n",
    "\n",
    "The value of the future cashflows as of today i.e. Time value of Money\n",
    "\n",
    "$$P = \\frac{c_1}{1+r_1} + \\frac{c_2}{(1+r_2)^2} + \\frac{c_3}{(1+r_3)^3} + ... + \\frac{N+c_t}{(1+r_t)^t}$$\n",
    "\n",
    "For simplicity, let's assume constant coupon rate ($c$) and rate of interest ($r$)\n",
    "\n",
    "$$P = \\frac{c}{1+r} + \\frac{c}{(1+r)^2} + \\frac{c}{(1+r)^3} + ... + \\frac{N+c}{(1+r)^t}$$"
   ]
  },
  {
   "cell_type": "code",
   "execution_count": 2,
   "id": "71bd0b06",
   "metadata": {},
   "outputs": [],
   "source": [
    "import numpy as np"
   ]
  },
  {
   "cell_type": "code",
   "execution_count": 34,
   "id": "d9c2fa98",
   "metadata": {},
   "outputs": [],
   "source": [
    "def create_cashflows(coupon, notional, time):\n",
    "    cashflows      = [coupon]*time\n",
    "    cashflows[-1] += notional\n",
    "    return cashflows\n",
    "\n",
    "def bond_pricer(coupon, notional, time, riskfree_rate):\n",
    "    future_cashflows = create_cashflows(coupon, notional, time)\n",
    "    bond_price       = 0.0\n",
    "    for cashflow, tp in zip(future_cashflows, range(time)):\n",
    "        bond_price += cashflow/(np.power((1+riskfree_rate), tp+1 ))\n",
    "    return round(bond_price, 4)"
   ]
  },
  {
   "cell_type": "code",
   "execution_count": 35,
   "id": "44431a14",
   "metadata": {},
   "outputs": [
    {
     "name": "stdout",
     "output_type": "stream",
     "text": [
      "Price of the bond is £ 82.6821\n"
     ]
    }
   ],
   "source": [
    "c = 1    # coupon rate, absolute £ value\n",
    "N = 100  # notional of the bond, £ value\n",
    "t = 5    # time to maturity (in years)\n",
    "r = 0.05 # risk-free rate of return (absolute), equivalent of 10%\n",
    "print(\"Price of the bond is £\", bond_pricer(c, N, t, r))\n",
    "\n",
    "## sanity check\n",
    "assert(bond_pricer(0, N, t, 0) == 100.0) # zero coupon- zero rate of interest\n",
    "assert(bond_pricer(10, N, t, 0.1) == 100.0) # coupon rate == rate of interest"
   ]
  },
  {
   "cell_type": "markdown",
   "id": "01b36d1d",
   "metadata": {},
   "source": [
    "### Pricing a risk bond\n",
    "Now, most of bonds in the market are so-called risky or corporate bonds. There is a default risk associated with these bonds.\n",
    "Let's assume at every discrete time interval, bonds can default with probability $d$. Incorporating this risk in the pricing, we have:\n",
    "$$P = \\Biggl( \\frac{1-d}{1+r} \\Biggr)c + \\Biggl( \\frac{1-d}{1+r} \\Biggr)^2 c + \\Biggl( \\frac{1-d}{1+r} \\Biggr)^3c + ... +  \\Biggl( \\frac{1-d}{1+r} \\Biggr)^t(N+c)$$"
   ]
  },
  {
   "cell_type": "code",
   "execution_count": 36,
   "id": "6037f86c",
   "metadata": {},
   "outputs": [],
   "source": [
    "def risky_bond_pricer(coupon, notional, time, riskfree_rate, default_probability = 0.0):\n",
    "    future_cashflows = create_cashflows(coupon, notional, time)\n",
    "    bond_price       = 0.0\n",
    "    for cashflow, tp in zip(future_cashflows, range(time)):\n",
    "        bond_price += cashflow*(np.power((1-default_probability), tp+1 ))/(np.power((1+riskfree_rate), tp+1 ))\n",
    "    return round(bond_price, 4)"
   ]
  },
  {
   "cell_type": "code",
   "execution_count": 37,
   "id": "9f00a724",
   "metadata": {},
   "outputs": [
    {
     "name": "stdout",
     "output_type": "stream",
     "text": [
      "Price of the bond is £ 78.5066\n"
     ]
    }
   ],
   "source": [
    "c = 10   # coupon rate, absolute £ value\n",
    "N = 100  # notional of the bond, £ value\n",
    "t = 5    # time to maturity (in years)\n",
    "r = 0.05 # risk-free rate of return (absolute), equivalent of 10%\n",
    "d = 0.1  # 10% default probability\n",
    "print(\"Price of the bond is £\", risky_bond_pricer(c, N, t, r, d))\n",
    "\n",
    "## sanity check\n",
    "assert(risky_bond_pricer(0, N, t, 0) == 100.0) # zero coupon- zero rate of interest\n",
    "assert(risky_bond_pricer(10, N, t, 0.1) == 100.0) # coupon rate == rate of interest"
   ]
  },
  {
   "cell_type": "markdown",
   "id": "67d24f3f",
   "metadata": {},
   "source": [
    "#### What if we allow the default probabilities to vary?\n",
    "\n",
    "Instead of constant default probabilities, we can have time-varying default probabilities. Mathematically, this reduces to\n",
    "$$P = \\Biggl( \\frac{1-d_1}{1+r} \\Biggr)c + \\Biggl( \\frac{1-d_1}{1+r} \\Biggr) \\Biggl( \\frac{1-d_2}{1+r} \\Biggr)c + ... +  \\Biggl( \\frac{1-d_1}{1+r} \\Biggr)....\\Biggl( \\frac{1-d_{t}}{1+r} \\Biggr)(N+c)$$\n",
    "\n",
    "So, if we have default probabilities, easy to work out risky bond price."
   ]
  },
  {
   "cell_type": "code",
   "execution_count": 42,
   "id": "45abc1a1",
   "metadata": {},
   "outputs": [],
   "source": [
    "def risky_bond_pricer_time_varying_default_probs( coupon, notional, time, riskfree_rate, default_probabilities ):\n",
    "    default_probabilities    = default_probabilities or [0.0]*time\n",
    "    future_cashflows         = create_cashflows( coupon, notional, time )\n",
    "    bond_price               = 0.0\n",
    "    conditional_default_prob = 1\n",
    "    for cashflow, tp in zip( future_cashflows, range( time ) ):\n",
    "        conditional_default_prob = conditional_default_prob * ( 1 - default_probabilities[ tp ] )\n",
    "        bond_price              += ( cashflow * conditional_default_prob / ( np.power( ( 1 + riskfree_rate ), tp + 1 ) ) )\n",
    "    return round( bond_price, 4 )"
   ]
  },
  {
   "cell_type": "code",
   "execution_count": 45,
   "id": "1ea52282",
   "metadata": {},
   "outputs": [
    {
     "name": "stdout",
     "output_type": "stream",
     "text": [
      "Price of the bond is £ 59.6279\n"
     ]
    }
   ],
   "source": [
    "c = 10                          # coupon rate, absolute £ value\n",
    "N = 100                         # notional of the bond, £ value\n",
    "t = 5                           # time to maturity (in years)\n",
    "r = 0.05                        # risk-free rate of return (absolute), equivalent of 10%\n",
    "d = [0.1, 0.1, 0.15, 0.2, 0.3]  # default probabilities\n",
    "print(\"Price of the bond is £\", risky_bond_pricer_time_varying_default_probs(c, N, t, r, d))\n",
    "\n",
    "## sanity check\n",
    "# Case-1 zero coupon- zero rate of interest- no default probability\n",
    "assert(risky_bond_pricer_time_varying_default_probs(0, N, t, 0, None) == 100.0) \n",
    "# Case-2 coupon rate == rate of interest - no default probability\n",
    "assert(risky_bond_pricer_time_varying_default_probs(10, N, t, 0.1, None) == 100.0) \n",
    "# Case-3 coupon rate == rate of interest - no default probability - both pricers should match\n",
    "assert(risky_bond_pricer_time_varying_default_probs(10, N, t, 0.1, None) == risky_bond_pricer(10, N, t, 0.1))"
   ]
  },
  {
   "cell_type": "markdown",
   "id": "50eaa38a",
   "metadata": {},
   "source": [
    "### default curve modeling\n",
    "Usually, the problem we have at hand is we observe the bond prices in the market and we workout the (market expectation) of default probabilities.\n",
    "Given the prices of bond written by the same entity but maturiting in 1 year, 2 year, ... t years could give us the picture what is the market expectation of entity's default.\n",
    "\n",
    "In mathematical terms, we are given $P_1, P_2, ... , P_t $ and we are trying to work-out the dynamics of the default probabilities $d_1, d_2, ... , d_t$\n",
    "\n",
    "$$\n",
    "\\begin{align*}\n",
    "P_1 &= \\Biggl( \\frac{1-d_1}{1+r} \\Biggr)(c + N) \\\\\n",
    "\\\\\n",
    "P_2 &= \\Biggl( \\frac{1-d_1}{1+r} \\Biggr)c + \\Biggl( \\frac{1-d_1}{1+r} \\Biggr) \\Biggl( \\frac{1-d_2}{1+r} \\Biggr)(c + N) \\\\\n",
    "\\\\\n",
    "...\\\\\n",
    "\\\\\n",
    "P_t &= \\Biggl( \\frac{1-d_1}{1+r} \\Biggr)c + \\Biggl( \\frac{1-d_1}{1+r} \\Biggr) \\Biggl( \\frac{1-d_2}{1+r} \\Biggr)c + ... +  \\Biggl( \\frac{1-d_1}{1+r} \\Biggr)....\\Biggl( \\frac{1-d_{t}}{1+r} \\Biggr)(c + N) \\\\\n",
    "\\end{align*}\n",
    "$$\n",
    "\n",
    "For the sake of simplicity, we can assume zero-coupon bonds:\n",
    "$$\n",
    "\\begin{align*}\n",
    "P_1 &= \\Biggl( \\frac{1-d_1}{1+r} \\Biggr)N \\\\\n",
    "\\\\\n",
    "P_2 &= \\Biggl( \\frac{1-d_1}{1+r} \\Biggr) \\Biggl( \\frac{1-d_2}{1+r} \\Biggr)N \\\\\n",
    "\\\\\n",
    "...\\\\\n",
    "\\\\\n",
    "P_t &= \\Biggl( \\frac{1-d_1}{1+r} \\Biggr)....\\Biggl( \\frac{1-d_{t}}{1+r} \\Biggr)N \\\\\n",
    "\\end{align*}\n",
    "$$\n",
    "\n",
    "Working backwards, we can solve for $d_i$\n"
   ]
  },
  {
   "cell_type": "code",
   "execution_count": null,
   "id": "8c8227b4",
   "metadata": {},
   "outputs": [],
   "source": []
  }
 ],
 "metadata": {
  "kernelspec": {
   "display_name": "Python 3 (ipykernel)",
   "language": "python",
   "name": "python3"
  },
  "language_info": {
   "codemirror_mode": {
    "name": "ipython",
    "version": 3
   },
   "file_extension": ".py",
   "mimetype": "text/x-python",
   "name": "python",
   "nbconvert_exporter": "python",
   "pygments_lexer": "ipython3",
   "version": "3.9.13"
  }
 },
 "nbformat": 4,
 "nbformat_minor": 5
}
