{
 "cells": [
  {
   "cell_type": "markdown",
   "id": "e1434837",
   "metadata": {},
   "source": [
    "# Mathematical biology \n",
    "In this section, we will go through some of the applications in the mathematical modeling.\n",
    "\n",
    "\n",
    "## 1. Lotka Voltera model\n",
    "Also known as predator-prey model, it is useful in describing the dynamics of the population of two species which depend on each other. For example, foxes (predator) and rabbits (prey).\n",
    "\n",
    "Mathematically, the dynamics of the population over time is given by a system of first-order non-linear ODEs:\n",
    "$$ \\frac{dx}{dt} = x(\\alpha -\\beta y)$$\n",
    "$$ $$\n",
    "$$ \\frac{dy}{dt} = y(-\\delta +\\gamma x)$$\n",
    "for $\\alpha, \\beta, \\gamma, \\delta > 0$\n",
    "\n",
    "Here $x$ represents the population of the preying species while $y$ represents the population of the predators while $\\frac{dx}{dt}$ and $\\frac{dy}{dt}$ represents the changes in the populations."
   ]
  },
  {
   "cell_type": "code",
   "execution_count": 4,
   "id": "4e984eb1",
   "metadata": {},
   "outputs": [],
   "source": [
    "import numpy as np"
   ]
  },
  {
   "cell_type": "code",
   "execution_count": 5,
   "id": "65aa5a5c",
   "metadata": {},
   "outputs": [],
   "source": [
    "## code to compute derivatives"
   ]
  },
  {
   "cell_type": "code",
   "execution_count": 6,
   "id": "c5cd0f12",
   "metadata": {},
   "outputs": [],
   "source": [
    "## populatioin dynamics plots"
   ]
  },
  {
   "cell_type": "code",
   "execution_count": 7,
   "id": "bbd28ca5",
   "metadata": {},
   "outputs": [],
   "source": [
    "## phase plots"
   ]
  },
  {
   "cell_type": "markdown",
   "id": "6a227110",
   "metadata": {},
   "source": [
    "## 2. Epidemics predictions\n",
    "\n",
    "One of the interesting class of models for predicting the dynamics of the contegious diseases is Compartmental models, where general population is assigned to either of Susceptible, Infectious or Recovered (SIR) compartments. People then progress between these compartments and the models try to appoximate how many people will be in a particular compartment as the diseases spread. \n",
    "\n",
    "In order to formulate the dynamics of the spread of the epidemic, we start with assumig S, I and R are functions of time and people in category S (susceptible) can get infected after being in contact with an I (infected) individual. It is also assumed that population in category I develops immunity to the disease and tehy leave the I category at a cure rate denoted by $\\gamma$.\n",
    "\n",
    "With the total population $N= S + I + R$ being constant, it is rather simple model with huge approximations. Assuming, on average, an individual S encounters $\\beta$ individuals per time interval, and $\\gamma$ individuals leaving the infected group.\n",
    "\n",
    "Mathematically, dynamics can be captured by following system of equations:\n",
    "\n",
    "$$\n",
    "\\begin{align}\n",
    "\\frac{dS}{dt} &=- \\frac{\\beta S}{N}I \\\\\n",
    "\\\\\n",
    "\\frac{dI}{dt} &= \\frac{\\beta S}{N}I - \\gamma I \\\\\n",
    "\\\\\n",
    "\\frac{dR}{dt} &= \\gamma I \\\\\n",
    "\\end{align}\n",
    "$$\n",
    "\n",
    "\n"
   ]
  },
  {
   "cell_type": "code",
   "execution_count": 8,
   "id": "e40ef805",
   "metadata": {},
   "outputs": [],
   "source": [
    "## define linspace and derivative"
   ]
  },
  {
   "cell_type": "code",
   "execution_count": 9,
   "id": "2be734cd",
   "metadata": {},
   "outputs": [],
   "source": [
    "## population dynamics"
   ]
  },
  {
   "cell_type": "code",
   "execution_count": 10,
   "id": "8a274b4f",
   "metadata": {},
   "outputs": [],
   "source": [
    "## phase diagrams"
   ]
  },
  {
   "cell_type": "code",
   "execution_count": null,
   "id": "87b700a1",
   "metadata": {},
   "outputs": [],
   "source": [
    "## further models overview"
   ]
  }
 ],
 "metadata": {
  "kernelspec": {
   "display_name": "Python 3 (ipykernel)",
   "language": "python",
   "name": "python3"
  },
  "language_info": {
   "codemirror_mode": {
    "name": "ipython",
    "version": 3
   },
   "file_extension": ".py",
   "mimetype": "text/x-python",
   "name": "python",
   "nbconvert_exporter": "python",
   "pygments_lexer": "ipython3",
   "version": "3.9.13"
  }
 },
 "nbformat": 4,
 "nbformat_minor": 5
}
