{
 "cells": [
  {
   "cell_type": "markdown",
   "id": "72737379",
   "metadata": {},
   "source": [
    "### Modeling a Pendulum"
   ]
  },
  {
   "cell_type": "markdown",
   "id": "893e3dc5",
   "metadata": {},
   "source": [
    "Background: describe class of physics/'classical mechanics' -type problems, and emphasise the role of mathematical modeling within this space"
   ]
  },
  {
   "cell_type": "markdown",
   "id": "b8e2e458",
   "metadata": {},
   "source": [
    "Description: talk about the pendulum in particular. Maybe a diagram and discussion of the key forces acting on the 'bob'. Probably don't want a full derivation of the ODE, but maybe enough info that it can be sketched out loud, and filled in by the participants most engaged with that end of things. "
   ]
  },
  {
   "cell_type": "markdown",
   "id": "af66738b",
   "metadata": {},
   "source": [
    "Model: Statement of the ODE, with terms defined. "
   ]
  },
  {
   "cell_type": "markdown",
   "id": "0a25e7d8",
   "metadata": {},
   "source": [
    "Context: Discuss background of (simple) harmonic motion, give other examples e.g. spring-mass"
   ]
  },
  {
   "cell_type": "markdown",
   "id": "03c424f8",
   "metadata": {},
   "source": [
    "Numerics: discuss how we turn this into code"
   ]
  },
  {
   "cell_type": "code",
   "execution_count": null,
   "id": "de8b14f3",
   "metadata": {},
   "outputs": [],
   "source": [
    "#Setting up parameters\n",
    "\n",
    "coeffs = [1, 0, -1]\n",
    "timestep = 0.5\n",
    "\n",
    "\n",
    "def forcing(x, res):\n",
    "    '''defines a mathematical function describing the forcing on a pendulum'''\n",
    "    return 0"
   ]
  },
  {
   "cell_type": "code",
   "execution_count": null,
   "id": "524772ae",
   "metadata": {},
   "outputs": [],
   "source": []
  },
  {
   "cell_type": "code",
   "execution_count": null,
   "id": "0ba27739",
   "metadata": {},
   "outputs": [],
   "source": [
    "def pendulum_height(coeffs, forcing, timestep, duration):\n",
    "    '''returns solutions of a(d^2y/dx^2)+b(dy/dx)+cy = f(x) for given coefficients [a, b, c], a forcing function,\n",
    "    timestep'''\n",
    "    raise NotImplementedError"
   ]
  },
  {
   "cell_type": "code",
   "execution_count": null,
   "id": "c18078f8",
   "metadata": {},
   "outputs": [],
   "source": []
  },
  {
   "cell_type": "code",
   "execution_count": null,
   "id": "2ebbb32a",
   "metadata": {},
   "outputs": [],
   "source": []
  },
  {
   "cell_type": "code",
   "execution_count": null,
   "id": "c2c2148f",
   "metadata": {},
   "outputs": [],
   "source": []
  }
 ],
 "metadata": {
  "kernelspec": {
   "display_name": "Python 3 (ipykernel)",
   "language": "python",
   "name": "python3"
  },
  "language_info": {
   "codemirror_mode": {
    "name": "ipython",
    "version": 3
   },
   "file_extension": ".py",
   "mimetype": "text/x-python",
   "name": "python",
   "nbconvert_exporter": "python",
   "pygments_lexer": "ipython3",
   "version": "3.8.10"
  }
 },
 "nbformat": 4,
 "nbformat_minor": 5
}
