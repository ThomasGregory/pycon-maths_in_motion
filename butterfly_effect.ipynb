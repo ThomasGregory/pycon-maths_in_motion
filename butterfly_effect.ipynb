{
 "cells": [
  {
   "cell_type": "markdown",
   "id": "418b1c07",
   "metadata": {},
   "source": [
    "# The Butterfly Effect"
   ]
  },
  {
   "cell_type": "markdown",
   "id": "3be6ef0e",
   "metadata": {},
   "source": [
    "Context: Link to weather"
   ]
  },
  {
   "cell_type": "markdown",
   "id": "917e7742",
   "metadata": {},
   "source": [
    "Explain: full history and context of weather models"
   ]
  },
  {
   "cell_type": "markdown",
   "id": "78c4498a",
   "metadata": {},
   "source": [
    "State: ODE system model for Lorenz 63"
   ]
  },
  {
   "cell_type": "code",
   "execution_count": 1,
   "id": "d5401231",
   "metadata": {},
   "outputs": [],
   "source": [
    "###Set up parameters\n",
    "coeffs = [1, 1, 1]"
   ]
  },
  {
   "cell_type": "code",
   "execution_count": 2,
   "id": "a93fff7c",
   "metadata": {},
   "outputs": [],
   "source": [
    "def lorenz_63(coeffs, timestep, duration):\n",
    "    '''outputs numerical solution of lorenz_63 at given timesteps for given coefficients - probably a \n",
    "    basic numerical scheme, if that works well enough'''\n",
    "    raise NotImplementedError"
   ]
  },
  {
   "cell_type": "markdown",
   "id": "099f3e06",
   "metadata": {},
   "source": [
    "Discuss: Chaos; what it means, and how this system exhibits it"
   ]
  },
  {
   "cell_type": "markdown",
   "id": "25c9dc95",
   "metadata": {},
   "source": [
    "Give some questions that explore the idea of chaos"
   ]
  },
  {
   "cell_type": "markdown",
   "id": "228a9a34",
   "metadata": {},
   "source": [
    "Link back to forecasting and prediction - segue into financial models."
   ]
  }
 ],
 "metadata": {
  "kernelspec": {
   "display_name": "Python 3 (ipykernel)",
   "language": "python",
   "name": "python3"
  },
  "language_info": {
   "codemirror_mode": {
    "name": "ipython",
    "version": 3
   },
   "file_extension": ".py",
   "mimetype": "text/x-python",
   "name": "python",
   "nbconvert_exporter": "python",
   "pygments_lexer": "ipython3",
   "version": "3.8.10"
  }
 },
 "nbformat": 4,
 "nbformat_minor": 5
}
