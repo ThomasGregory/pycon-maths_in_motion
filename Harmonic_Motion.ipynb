{
 "cells": [
  {
   "cell_type": "markdown",
   "id": "aef0f7b6",
   "metadata": {},
   "source": [
    "### Modeling a Pendulum"
   ]
  },
  {
   "cell_type": "markdown",
   "id": "447db700",
   "metadata": {},
   "source": [
    "Classical mechanics is the description of the world that started with Sir Isaac Newton. The use of calculus to describe the physical world around us has been a powerful tool for hundreds of years. Whilst many of the ideas of classical mechanics have been superseded by relativistic or quantum mechanics, calculus and differential equations retain a key role."
   ]
  },
  {
   "cell_type": "markdown",
   "id": "0b26555c-18c7-486b-862a-e1fce26a5ead",
   "metadata": {},
   "source": [
    "In this workbook, we'll consider a classic example of a harmonic oscillator - the pendulum. A pendulum is a mass or 'bob' on a piece of string that swings back and forth with a regular period. We'll model it with a second-order linear ordinary differential equation. "
   ]
  },
  {
   "cell_type": "markdown",
   "id": "c09f6417-2bab-41b3-9aaa-e99d00ecbb4c",
   "metadata": {},
   "source": [
    "![title](img/Simple_gravity_pendulum.svg.png)"
   ]
  },
  {
   "cell_type": "markdown",
   "id": "50dd74a6",
   "metadata": {},
   "source": [
    "As well as a pendulum, the harmonic oscillator can describe a spring-mass system, and other systems besides. As well as incorporating the restorative force, we can include some damping term $b$ and some forcing term $f$. "
   ]
  },
  {
   "cell_type": "markdown",
   "id": "672f52aa-235e-4721-a6da-3f198c856ca4",
   "metadata": {},
   "source": [
    "The key quantities of motion can be phrased as derivatives. If $x$ is the position, the rate of change of $x$, $\\frac{dx}{dt}$, describes the velocity, and $\\frac{d^2x}{dt^2}$ is the acceleration. We can describe Simple Harmonic Motion as:\n",
    "\n",
    "$$ \\frac{d^2x}{dt^2} + cx = 0. $$\n",
    "\n",
    "Essentially, the acceleration opposes the displacement; the system seeks to return to some equilibrium position."
   ]
  },
  {
   "cell_type": "markdown",
   "id": "ee980b6e",
   "metadata": {},
   "source": [
    "A full ODE including the damping (resistive force) and forcing (some additional controlled force in time) is as follows: "
   ]
  },
  {
   "cell_type": "markdown",
   "id": "1d731f42",
   "metadata": {},
   "source": [
    "$$ a \\frac{d^2x}{dt^2} + b \\frac{dx}{dt} + c x = f(t) $$"
   ]
  },
  {
   "cell_type": "markdown",
   "id": "bc057083",
   "metadata": {},
   "source": [
    "So, how can we solve this?"
   ]
  },
  {
   "cell_type": "markdown",
   "id": "8ff0ae59-27fb-4ae5-bc06-c646611b2b63",
   "metadata": {},
   "source": [
    "### Numerical Solution"
   ]
  },
  {
   "cell_type": "markdown",
   "id": "6cbf9302-d7e8-47b9-9016-f767cf52bfa2",
   "metadata": {},
   "source": [
    "There are some known analytic solutions for basic forcings, but we'll need a computational algorithm for more involved systems. In particular, it's helpful to be able to check the accuracy of our scheme against known solutions where possible to evaluate both our choice of algorithm and our implementation of it."
   ]
  },
  {
   "cell_type": "code",
   "execution_count": 17,
   "id": "5297316a-bebe-4479-bd21-b093909819bb",
   "metadata": {},
   "outputs": [
    {
     "data": {
      "image/png": "[encoded data removed]",
      "text/plain": [
       "<Figure size 640x480 with 1 Axes>"
      ]
     },
     "metadata": {},
     "output_type": "display_data"
    },
    {
     "name": "stdout",
     "output_type": "stream",
     "text": [
      "total error: 0.17477495256915213\n"
     ]
    }
   ],
   "source": [
    "import numpy as np\n",
    "import matplotlib.pyplot as plt\n",
    "\n",
    "# Define f(t, x, v) for timestepping\n",
    "def f(t, x, v, a, b, c):\n",
    "    forcing_term = 0.1 * np.sin(t)\n",
    "    #forcing_term = 0\n",
    "    return (forcing_term - b * v - c * x) / a\n",
    "\n",
    "### Analytical solution for comparison (Only works when b^2-4ac < 0 !)\n",
    "def analytical_solution(t, a, b, c, x0, v0):\n",
    "    omega = np.sqrt(4*a*c - b**2) / (2*a)\n",
    "    decay = -b / (2*a)\n",
    "    A = x0\n",
    "    B = (v0 - decay * x0) / omega\n",
    "    return np.exp(decay * t) * (A * np.cos(omega * t) + B * np.sin(omega * t))\n",
    "\n",
    "\n",
    "# Initialize parameters\n",
    "a = 1.0\n",
    "b = 0.1\n",
    "c = 1.0\n",
    "dt = 0.01\n",
    "T = 10\n",
    "\n",
    "# Initialize initial conditions\n",
    "x0 = 1\n",
    "v0 = 0\n",
    "\n",
    "#Initialise variables\n",
    "N = int(T / dt)\n",
    "t_values = np.linspace(0, T, N)\n",
    "x_values = np.zeros(N)\n",
    "v_values = np.zeros(N)\n",
    "x_analytical = np.zeros(N)\n",
    "x_values[0] = x0\n",
    "v_values[0] = v0\n",
    "\n",
    "# Time-stepping loop\n",
    "for i in range(1, N):\n",
    "    t = t_values[i-1]\n",
    "    x = x_values[i-1]\n",
    "    v = v_values[i-1]\n",
    "    \n",
    "    x_new = x + v * dt\n",
    "    v_new = v + f(t, x, v, a, b, c) * dt\n",
    "    x_values[i] = x_new\n",
    "    v_values[i] = v_new\n",
    "\n",
    "    # Analytical solution for comparison\n",
    "    x_analytical[i] = x_analytical[i] = analytical_solution(t, a, b, c, x0, v0) #comment this for no analytical solution\n",
    "\n",
    "# Calculate error\n",
    "L2_error = np.sqrt(np.mean((x_analytical - x_values)**2))\n",
    "\n",
    "# Plot results\n",
    "plt.figure()\n",
    "plt.subplot(2, 1, 1)\n",
    "plt.plot(t_values, x_values, label='Numerical x(t)')\n",
    "plt.plot(t_values, x_analytical, label='Analytical x(t)', linestyle='dashed') #comment this for no analytical solution\n",
    "plt.xlabel('Time')\n",
    "plt.ylabel('Position')\n",
    "plt.legend()\n",
    "\n",
    "\n",
    "#can turn the below on to plot velocity too!\n",
    "# plt.subplot(2, 1, 2)\n",
    "# plt.plot(t_values, v_values, label='Numerical v(t)', color='r')\n",
    "# plt.xlabel('Time')\n",
    "# plt.ylabel('Velocity')\n",
    "# plt.legend()\n",
    "\n",
    "plt.show()\n",
    "\n",
    "# Output error\n",
    "print(f\"total error: {L2_error}\") #comment this for no analytical solution\n"
   ]
  },
  {
   "cell_type": "markdown",
   "id": "c05e990a",
   "metadata": {},
   "source": [
    "Questions to explore:"
   ]
  },
  {
   "cell_type": "markdown",
   "id": "f0c2ce6b",
   "metadata": {},
   "source": [
    "1) Why do we get the shape of output that we do?\n",
    "\n",
    "2) When there's no forcing, what's the difference in the real-world between b = 0 and $b \\neq 0$?\n",
    "\n",
    "3) Why might we compare our computed solution against an analytical solution?\n",
    "\n",
    "4) Why do we get some error between the computed solution and the true (analytical) solution? How can we decrease the error? \n",
    "\n",
    "5) Experiment with some different values of the coefficients $a$, $b$ and $c$. How does each coefficient affect the shape of the solution? Does every possible combination of coefficients correspond to a real-world pendulum? \n",
    "\n",
    "6) What are the importance of the initial conditions?\n",
    "\n",
    "7) Try a non-zero function for the forcing. What happens?\n",
    "\n",
    "8) What assumptions did we make to design this model? What are some limitations of our model?\n",
    "\n",
    "9) Experiment with the forcing. How does the shape of the output respond? \n",
    "\n",
    "10) Look at how we work out the next value of $x$ at every timestep. This is called an Euler method. Research these, and propose and implement a more efficient method. \n"
   ]
  },
  {
   "cell_type": "markdown",
   "id": "559c9ee2-8956-4859-b020-f007caf1caf1",
   "metadata": {},
   "source": [
    "### Adding Complexity"
   ]
  },
  {
   "cell_type": "markdown",
   "id": "e4bbcd5c",
   "metadata": {},
   "source": [
    "What happens if we add more complexity to the scenario? If we attach another pendulum to the end of this pendulum, what do you think will happen? Take a look at the video linked below:"
   ]
  },
  {
   "cell_type": "markdown",
   "id": "4cb4c1e9-0d1b-49ce-9ffa-c5938d158fa3",
   "metadata": {},
   "source": [
    "https://www.youtube.com/watch?v=U39RMUzCjiU"
   ]
  },
  {
   "cell_type": "code",
   "execution_count": null,
   "id": "5f5a95b6-9d4f-44be-9b0b-c423299754fa",
   "metadata": {},
   "outputs": [],
   "source": []
  }
 ],
 "metadata": {
  "kernelspec": {
   "display_name": "Python 3 (ipykernel)",
   "language": "python",
   "name": "python3"
  },
  "language_info": {
   "codemirror_mode": {
    "name": "ipython",
    "version": 3
   },
   "file_extension": ".py",
   "mimetype": "text/x-python",
   "name": "python",
   "nbconvert_exporter": "python",
   "pygments_lexer": "ipython3",
   "version": "3.9.13"
  }
 },
 "nbformat": 4,
 "nbformat_minor": 5
}
